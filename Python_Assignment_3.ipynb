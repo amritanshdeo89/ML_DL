{
 "cells": [
  {
   "cell_type": "code",
   "execution_count": 5,
   "metadata": {},
   "outputs": [
    {
     "name": "stdout",
     "output_type": "stream",
     "text": [
      "Sum of the elements of list is : 100\n"
     ]
    }
   ],
   "source": [
    "'''\n",
    "1.1 Write a Python Program to implement your own myreduce() function which works exactly  \n",
    "like Python's built-in function reduce() \n",
    "\n",
    "'''\n",
    "# Solution:\n",
    "\n",
    "def myreduce(func,list_num):\n",
    "    num1 = list_num[0]\n",
    "    \n",
    "    for i in range(1,len(list_num)):\n",
    "        num2 = list_num[i]\n",
    "        num1 = add(num1,num2)\n",
    "    return num1\n",
    "\n",
    "def add(num1,num2):\n",
    "    return num1 + num2\n",
    "\n",
    "print('Sum of the elements of list is :', myreduce(add,[10, 15, 25, 40, 10]))"
   ]
  },
  {
   "cell_type": "code",
   "execution_count": 6,
   "metadata": {},
   "outputs": [
    {
     "name": "stdout",
     "output_type": "stream",
     "text": [
      "Filtered Even number list is  [2, 4, 6, 8, 10]\n"
     ]
    }
   ],
   "source": [
    "'''\n",
    "1.2 Write a Python program to implement your own myfilter() function which works exactly  \n",
    "like Python's built-in function filter()\n",
    "\n",
    "'''\n",
    "# Solution:\n",
    "\n",
    "result = []\n",
    "def myfilter(func, lists_of_numbers):\n",
    "    for i in lists_of_numbers:\n",
    "        if is_Even(i):\n",
    "            result.append(i)\n",
    "    return result\n",
    "    \n",
    "def is_Even(i):\n",
    "    if i % 2 == 0:\n",
    "        return i\n",
    "    \n",
    "print('Filtered Even number list is ', myfilter(is_Even,[2,3,4,5,6,7,8,9,10]))"
   ]
  },
  {
   "cell_type": "code",
   "execution_count": 8,
   "metadata": {},
   "outputs": [
    {
     "name": "stdout",
     "output_type": "stream",
     "text": [
      "Text list is :  ['A', 'C', 'A', 'D', 'G', 'I', 'L', 'D']\n",
      "First List :  ['x', 'xx', 'xxx', 'xxxx', 'y', 'yy', 'yyy', 'yyyy', 'z', 'zz', 'zzz', 'zzzz']\n",
      "Scond List :  ['x', 'y', 'z', 'xx', 'yy', 'zz', 'xxx', 'yyy', 'zzz', 'xxxx', 'yyyy', 'zzzz']\n",
      "New numbers first list is :  [[2], [3], [4], [3], [4], [5], [4], [5], [6]]\n",
      "Second num List is :  [[2, 3, 4, 5], [3, 4, 5, 6], [4, 5, 6, 7], [5, 6, 7, 8]]\n",
      "Resultant list is :  [(1, 1), (2, 1), (3, 1), (1, 2), (2, 2), (3, 2), (1, 3), (2, 3), (3, 3)]\n"
     ]
    }
   ],
   "source": [
    "'''\n",
    "2. Implement List comprehensions to produce the following lists.  \n",
    "   Write List comprehensions to produce the following Lists\n",
    "\n",
    "['A', 'C', 'A', 'D', 'G', 'I', ’L’, ‘ D’] \n",
    "\n",
    "['x', 'xx', 'xxx', 'xxxx', 'y', 'yy', 'yyy', 'yyyy', 'z', 'zz', 'zzz', 'zzzz']\n",
    "\n",
    "['x', 'y', 'z', 'xx', 'yy', 'zz', 'xxx', 'yyy', 'zzz', 'xxxx', 'yyyy', 'zzzz']\n",
    "\n",
    "[[2], [3], [4], [3], [4], [5], [4], [5], [6]] \n",
    "\n",
    "[[2, 3, 4, 5], [3, 4, 5, 6], [4, 5, 6, 7], [5, 6, 7, 8]]\n",
    "\n",
    "[(1, 1), (2, 1), (3, 1), (1, 2), (2, 2), (3, 2), (1, 3), (2, 3), (3, 3)]\n",
    "\n",
    "'''\n",
    "\n",
    "# Solution:\n",
    "\n",
    "text = 'ACADGILD'\n",
    "\n",
    "text_list = [letter for letter in text]\n",
    "\n",
    "print('Text list is : ', text_list)\n",
    "\n",
    "char_list = ['x','y','z']\n",
    "\n",
    "firstlist = [i * n for i in char_list for n in range(1,5)]\n",
    "\n",
    "print('First List : ', firstlist)\n",
    "\n",
    "secondlist = [i * n for n in range(1,5) for i in char_list]\n",
    "\n",
    "print('Scond List : ', secondlist)\n",
    "\n",
    "num_list = [2,3,4]\n",
    "\n",
    "new_num_list = [[i + n]for i in num_list for n in range(0,3)]\n",
    "\n",
    "print('New numbers first list is : ', new_num_list)\n",
    "\n",
    "second_num_list = [2,3,4,5]\n",
    "\n",
    "new_second_num_list = [[i + n for i in second_num_list] for n in range(0,4)]\n",
    "\n",
    "print('Second num List is : ', new_second_num_list)\n",
    "\n",
    "third_num_list = [1,2,3]\n",
    "\n",
    "resultant_list = [(j,i) for i in third_num_list for j in third_num_list]\n",
    "\n",
    "print('Resultant list is : ', resultant_list)"
   ]
  },
  {
   "cell_type": "code",
   "execution_count": null,
   "metadata": {},
   "outputs": [],
   "source": []
  }
 ],
 "metadata": {
  "kernelspec": {
   "display_name": "Python 3",
   "language": "python",
   "name": "python3"
  },
  "language_info": {
   "codemirror_mode": {
    "name": "ipython",
    "version": 3
   },
   "file_extension": ".py",
   "mimetype": "text/x-python",
   "name": "python",
   "nbconvert_exporter": "python",
   "pygments_lexer": "ipython3",
   "version": "3.8.5"
  }
 },
 "nbformat": 4,
 "nbformat_minor": 4
}
