{
 "cells": [
  {
   "cell_type": "code",
   "execution_count": 6,
   "metadata": {},
   "outputs": [],
   "source": [
    "'''\n",
    "1.1 Write a Python Program(with class concepts) to find the area of the triangle using the below  formula. \n",
    "area = (s*(s-a)*(s-b)*(s-c)) ** 0.5 \n",
    "Function to take the length of the sides of triangle from user should be defined in the parent class \n",
    "and function to calculate the area should be defined in subclass. \n",
    "\n",
    "'''\n",
    "\n",
    "\n",
    "class Triangle:\n",
    "    def __init__(self, side1, side2, side3):\n",
    "        self.side1 = side1\n",
    "        self.side2 = side2\n",
    "        self.side3 = side3\n",
    "        print(\"Sides of Triangle --> \" +  str(side1) + \",\" + str(side2) + \",\" + str(side3) + \"\")\n",
    "class Triangle_Operations(Triangle):\n",
    "    def __init__(self,*args):\n",
    "        super(Triangle_Operations, self).__init__(*args)\n",
    "    def area_of_triangle(self):\n",
    "        s = (self.side1 + self.side2 + self.side3)/2\n",
    "        print ('Values of s is ', s)\n",
    "        return (s*(s-self.side1)*(s-self.side2)*(s-self.side3))**0.5"
   ]
  },
  {
   "cell_type": "code",
   "execution_count": 7,
   "metadata": {},
   "outputs": [
    {
     "name": "stdout",
     "output_type": "stream",
     "text": [
      "Sides of Triangle --> 3,4,5\n",
      "Values of s is  6.0\n",
      "Area of triangle = 6.0\n"
     ]
    }
   ],
   "source": [
    "triangle_obj = Triangle_Operations(3,4,5)\n",
    "print (\"Area of triangle = \" + str(triangle_obj.area_of_triangle()) )"
   ]
  },
  {
   "cell_type": "code",
   "execution_count": 3,
   "metadata": {},
   "outputs": [
    {
     "name": "stdout",
     "output_type": "stream",
     "text": [
      "Please enter your words: Alpha,Beta,Gamma,Delta\n",
      "Please enter your number: 4\n",
      "List of words :  ['Alpha', 'Beta', 'Gamma', 'Delta']\n",
      "The List of longest words is : ['Alpha', 'Gamma', 'Delta']\n"
     ]
    }
   ],
   "source": [
    "'''\n",
    "1.2 Write a function filter_long_words() that takes a list of words and an integer n and returns  \n",
    "the list of words that are longer than n. \n",
    "'''\n",
    "\n",
    "def filter_long_words(list_of_words, size):\n",
    "    return [word for word in list_of_words if len(word) > size]\n",
    "\n",
    "# User Input\n",
    "words_lists= list(input(\"Please enter your words: \").split(','))\n",
    "length= int(input(\"Please enter your number: \"))  \n",
    "print('List of words : ', words_lists)\n",
    "list_of_longest_words = filter_long_words(words_lists,length)\n",
    "print(\"The List of longest words is :\", list_of_longest_words)"
   ]
  },
  {
   "cell_type": "code",
   "execution_count": 4,
   "metadata": {},
   "outputs": [
    {
     "name": "stdout",
     "output_type": "stream",
     "text": [
      "Enter the words : ab,cde,erty\n",
      "List of words are :  ['ab', 'cde', 'erty']\n",
      "Length of Words are :  [2, 3, 4]\n"
     ]
    }
   ],
   "source": [
    "'''\n",
    "2.1 Write a Python program using function concept that maps list of words into a list of integers  representing the lengths \n",
    "of the corresponding words. \n",
    "Hint: If a list [ ab,cde,erty] is passed on to the python function output should come as [2,3,4] \n",
    "Here 2,3 and 4 are the lengths of the words in the list\n",
    "'''\n",
    "\n",
    "def map_list_of_words(lists_of_words):\n",
    "    lists_of_words_length = []\n",
    "    for words in lists_of_words:\n",
    "        lists_of_words_length.append(len(words))\n",
    "    return lists_of_words_length\n",
    "\n",
    "# User Input\n",
    "list_of_words = list(input(\"Enter the words : \").split(','))\n",
    "print('List of words are : ', list_of_words)\n",
    "\n",
    "lengths_of_words = map_list_of_words(list_of_words)\n",
    "\n",
    "print('Length of Words are : ', lengths_of_words)"
   ]
  },
  {
   "cell_type": "code",
   "execution_count": 5,
   "metadata": {},
   "outputs": [
    {
     "name": "stdout",
     "output_type": "stream",
     "text": [
      "Please enter the character : b\n"
     ]
    },
    {
     "data": {
      "text/plain": [
       "False"
      ]
     },
     "execution_count": 5,
     "metadata": {},
     "output_type": "execute_result"
    }
   ],
   "source": [
    "'''\n",
    "2.2 Write a Python function which takes a character (i.e. a string of length 1) and returns True if  it is a vowel, \n",
    "False otherwise. \n",
    "'''\n",
    "def isVowel(char):\n",
    "    vowel_list = ['a','e','i','o','u','A','E','I','O','U']\n",
    "    if len(char) == 1:\n",
    "        if char in vowel_list:\n",
    "            return True\n",
    "        else:\n",
    "            return False\n",
    "    else:\n",
    "        return False\n",
    "    \n",
    "# USer Input\n",
    "Character = input('Please enter the character : ')\n",
    "isVowel(Character)        "
   ]
  },
  {
   "cell_type": "code",
   "execution_count": null,
   "metadata": {},
   "outputs": [],
   "source": []
  }
 ],
 "metadata": {
  "kernelspec": {
   "display_name": "Python 3",
   "language": "python",
   "name": "python3"
  },
  "language_info": {
   "codemirror_mode": {
    "name": "ipython",
    "version": 3
   },
   "file_extension": ".py",
   "mimetype": "text/x-python",
   "name": "python",
   "nbconvert_exporter": "python",
   "pygments_lexer": "ipython3",
   "version": "3.8.5"
  }
 },
 "nbformat": 4,
 "nbformat_minor": 4
}
