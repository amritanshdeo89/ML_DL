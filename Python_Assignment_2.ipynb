{
 "cells": [
  {
   "cell_type": "code",
   "execution_count": 4,
   "metadata": {},
   "outputs": [
    {
     "name": "stdout",
     "output_type": "stream",
     "text": [
      "Type only comma-separated numbers : 34,67,55,33,12,98 \n",
      "[' 34', '67', '55', '33', '12', '98 ']\n"
     ]
    }
   ],
   "source": [
    "'''\n",
    "1. Write a program which accepts a sequence of comma-separated numbers from console  and generate a list.\n",
    "\n",
    "'''\n",
    "# Solution:\n",
    "\n",
    "numbers = input(\"Type only comma-separated numbers :\")\n",
    "numbers_lst = numbers.split(',')\n",
    "print(numbers_lst)"
   ]
  },
  {
   "cell_type": "code",
   "execution_count": 5,
   "metadata": {},
   "outputs": [
    {
     "name": "stdout",
     "output_type": "stream",
     "text": [
      "*  \n",
      "* *  \n",
      "* * *  \n",
      "* * * *  \n",
      "* * * * *  \n",
      "* * * *  \n",
      "* * *  \n",
      "* *  \n",
      "*  \n",
      " \n"
     ]
    }
   ],
   "source": [
    "'''\n",
    "2. Create the below pattern using nested for loop in Python. \n",
    " \n",
    "    * \n",
    "    * * \n",
    "    * * * \n",
    "    * * * * \n",
    "    * * * * * \n",
    "    * * * * \n",
    "    * * * \n",
    "    * * \n",
    "    * \n",
    "\n",
    "'''\n",
    "# Solution:\n",
    "\n",
    "num = 5\n",
    "for i in range(1, num + 1):\n",
    "    for j in range(0,i):\n",
    "        print('*', end = ' ')\n",
    "    print(\" \")\n",
    "for i in range(num,0,-1):\n",
    "    for j in range(0,i-1):\n",
    "        print(\"*\", end = \" \")\n",
    "    print(\" \")"
   ]
  },
  {
   "cell_type": "code",
   "execution_count": 8,
   "metadata": {},
   "outputs": [
    {
     "name": "stdout",
     "output_type": "stream",
     "text": [
      "Enter the wordineuron\n",
      "Reverse Name : norueni\n"
     ]
    }
   ],
   "source": [
    "'''\n",
    "3. Write a Python program to reverse a word after accepting the input from the user.\n",
    "   Input word: ineuron \n",
    "   \n",
    "'''\n",
    "\n",
    "# Solution:\n",
    "\n",
    "name = input('Enter the word')\n",
    "rev_name = name[::-1]\n",
    "print('Reverse Name :', rev_name)"
   ]
  },
  {
   "cell_type": "code",
   "execution_count": null,
   "metadata": {},
   "outputs": [],
   "source": []
  },
  {
   "cell_type": "code",
   "execution_count": null,
   "metadata": {},
   "outputs": [],
   "source": []
  }
 ],
 "metadata": {
  "kernelspec": {
   "display_name": "Python 3",
   "language": "python",
   "name": "python3"
  },
  "language_info": {
   "codemirror_mode": {
    "name": "ipython",
    "version": 3
   },
   "file_extension": ".py",
   "mimetype": "text/x-python",
   "name": "python",
   "nbconvert_exporter": "python",
   "pygments_lexer": "ipython3",
   "version": "3.8.5"
  }
 },
 "nbformat": 4,
 "nbformat_minor": 4
}
