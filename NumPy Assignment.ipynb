{
 "cells": [
  {
   "cell_type": "code",
   "execution_count": 2,
   "metadata": {},
   "outputs": [
    {
     "name": "stdout",
     "output_type": "stream",
     "text": [
      "Matrix is : \n",
      " [[ 1  1  1]\n",
      " [ 4  2  1]\n",
      " [ 9  3  1]\n",
      " [25  5  1]]\n"
     ]
    }
   ],
   "source": [
    "'''\n",
    "1. Write a function so that the columns of the output matrix are powers of the input vector. \n",
    "\n",
    "'''\n",
    "\n",
    "##Solution:\n",
    "import numpy as np\n",
    "def vander_matrix(input_vector,N,increasing=False):\n",
    "    desc_order = np.column_stack([input_vector**(N-1-i) for i in range(N)])\n",
    "    print('Matrix is : \\n', desc_order)\n",
    "x = np.array([1,2,3,5])\n",
    "num_col = 3\n",
    "vander_matrix(x,num_col)"
   ]
  },
  {
   "cell_type": "code",
   "execution_count": 4,
   "metadata": {},
   "outputs": [
    {
     "name": "stdout",
     "output_type": "stream",
     "text": [
      "[  5.           4.66666667   5.66666667   6.66666667   9.66666667\n",
      "  28.66666667  49.33333333  72.66666667  84.          93.33333333\n",
      " 116.33333333]\n"
     ]
    }
   ],
   "source": [
    "'''\n",
    "2. Write a function to find moving average in an array over a window:\n",
    "   Test it over [3, 5, 7, 2, 8, 10, 11, 65, 72, 81, 99, 100, 150] and window of 3.\n",
    "'''\n",
    "\n",
    "## Solution\n",
    "\n",
    "def moving_average(a, n=1) :\n",
    "    res = np.cumsum(a, dtype=float)\n",
    "    res[n:] = res[n:] - res[:-n]\n",
    "    return res[n - 1:] / n\n",
    "a = [3, 5, 7, 2, 8, 10, 11, 65, 72, 81, 99, 100, 150]\n",
    "print(moving_average(a, n=3))"
   ]
  },
  {
   "cell_type": "code",
   "execution_count": null,
   "metadata": {},
   "outputs": [],
   "source": []
  }
 ],
 "metadata": {
  "kernelspec": {
   "display_name": "Python 3",
   "language": "python",
   "name": "python3"
  },
  "language_info": {
   "codemirror_mode": {
    "name": "ipython",
    "version": 3
   },
   "file_extension": ".py",
   "mimetype": "text/x-python",
   "name": "python",
   "nbconvert_exporter": "python",
   "pygments_lexer": "ipython3",
   "version": "3.8.5"
  }
 },
 "nbformat": 4,
 "nbformat_minor": 4
}
