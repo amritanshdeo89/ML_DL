{
 "cells": [
  {
   "cell_type": "code",
   "execution_count": 1,
   "metadata": {},
   "outputs": [
    {
     "name": "stdout",
     "output_type": "stream",
     "text": [
      "Cant be divided by Zero\n"
     ]
    }
   ],
   "source": [
    "'''\n",
    "1. Write a function to compute 5/0 and use try/except to catch the exceptions. \n",
    "\n",
    "'''\n",
    "def divide(x,y):\n",
    "    try:\n",
    "        result = x/y\n",
    "        print('Your result is ', result)\n",
    "    except ZeroDivisionError:\n",
    "        print('Cant be divided by Zero')\n",
    "divide(5,0)"
   ]
  },
  {
   "cell_type": "code",
   "execution_count": 2,
   "metadata": {},
   "outputs": [
    {
     "name": "stdout",
     "output_type": "stream",
     "text": [
      "Americans  play Baseball\n",
      "Americans  play Cricket\n",
      "Americans  watch Baseball\n",
      "Americans  watch Cricket\n",
      "Indians play Baseball\n",
      "Indians play Cricket\n",
      "Indians watch Baseball\n",
      "Indians watch Cricket\n"
     ]
    }
   ],
   "source": [
    "'''\n",
    "2.Implement a Python program to generate all sentences where subject is in  [\"Americans\", \"Indians\"] and \n",
    "verb is in [\"Play\", \"watch\"] \n",
    "and the object is in  [\"Baseball\",\"cricket\"]. \n",
    "\n",
    "'''\n",
    "subjects=[\"Americans \",\"Indians\"] \n",
    "verbs=[\"play\",\"watch\"] \n",
    "objects=[\"Baseball\",\"Cricket\"] \n",
    "try:\n",
    "    \n",
    "    sentences = [(sub+\" \"+vb+\" \"+obj)for sub in subjects for vb in verbs for obj in objects]\n",
    "\n",
    "    for sentence in sentences:\n",
    "        print(sentence)\n",
    "except Exception as e:\n",
    "    print('The Exception is ', e)"
   ]
  },
  {
   "cell_type": "code",
   "execution_count": null,
   "metadata": {},
   "outputs": [],
   "source": []
  }
 ],
 "metadata": {
  "kernelspec": {
   "display_name": "Python 3",
   "language": "python",
   "name": "python3"
  },
  "language_info": {
   "codemirror_mode": {
    "name": "ipython",
    "version": 3
   },
   "file_extension": ".py",
   "mimetype": "text/x-python",
   "name": "python",
   "nbconvert_exporter": "python",
   "pygments_lexer": "ipython3",
   "version": "3.8.5"
  }
 },
 "nbformat": 4,
 "nbformat_minor": 4
}
